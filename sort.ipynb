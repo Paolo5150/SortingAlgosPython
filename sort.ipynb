{
 "cells": [
  {
   "cell_type": "code",
   "execution_count": 8,
   "metadata": {},
   "outputs": [
    {
     "name": "stdout",
     "output_type": "stream",
     "text": [
      "Numbers\n",
      "88, 16, 85, 38, 43, 13, 64, 65, 89, 96, 66, 35, 69, 83, 70, 12, 92, 98, 42, 55, "
     ]
    }
   ],
   "source": [
    "import matplotlib.pyplot as plt\n",
    "import numpy as np\n",
    "import time\n",
    "\n",
    "# Initialize data\n",
    "n_bars = 10\n",
    "x = np.arange(n_bars)\n",
    "nums = np.random.randint(1, 100, size=n_bars)\n",
    "\n",
    "fig, ax = plt.subplots()\n",
    "bars = ax.bar(x, nums)\n",
    "\n",
    "# Function to update the heights of the bars\n",
    "def update_bars(nums):\n",
    "    for bar, height in zip(bars, nums):\n",
    "        bar.set_height(height)\n",
    "    fig.canvas.draw_idle()  # Redraw the figure\n",
    "    plt.pause(0.1)          # Pause to allow the figure to refresh\n",
    "\n",
    "# Bubble Sort with plotting inside the loop\n",
    "def bubble_sort(nums):\n",
    "    n = len(nums)\n",
    "    for i in range(n):\n",
    "        for j in range(0, n-i-1):\n",
    "            # Check if current pair is out of order\n",
    "            if nums[j] > nums[j+1]:\n",
    "                # Swap the elements\n",
    "                nums[j], nums[j+1] = nums[j+1], nums[j]\n",
    "                # Update the bars after every swap\n",
    "                update_bars(nums)\n",
    "\n",
    "# Set up axis limits\n",
    "ax.set_xlim(-1, n_bars)  # Extra room for shifting\n",
    "ax.set_ylim(0, max(nums) + 10)\n",
    "\n",
    "# Show the initial plot\n",
    "plt.show(block=False)\n",
    "\n",
    "# Run the bubble sort algorithm and visualize it\n",
    "bubble_sort(nums)\n",
    "\n",
    "# Keep the plot open after sorting is done\n",
    "plt.show()\n"
   ]
  }
 ],
 "metadata": {
  "kernelspec": {
   "display_name": "Python 3",
   "language": "python",
   "name": "python3"
  },
  "language_info": {
   "codemirror_mode": {
    "name": "ipython",
    "version": 3
   },
   "file_extension": ".py",
   "mimetype": "text/x-python",
   "name": "python",
   "nbconvert_exporter": "python",
   "pygments_lexer": "ipython3",
   "version": "3.12.5"
  }
 },
 "nbformat": 4,
 "nbformat_minor": 2
}
